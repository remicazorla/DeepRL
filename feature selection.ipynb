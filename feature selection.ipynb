{
 "cells": [
  {
   "cell_type": "code",
   "execution_count": 3,
   "id": "c8a30fec",
   "metadata": {},
   "outputs": [],
   "source": [
    "from all_indicators import get_all_stock_indicators\n",
    "from sklearn.preprocessing import MinMaxScaler"
   ]
  },
  {
   "cell_type": "code",
   "execution_count": 4,
   "id": "f5bd9899",
   "metadata": {},
   "outputs": [
    {
     "name": "stdout",
     "output_type": "stream",
     "text": [
      "dropped Index(['trend_psar_up', 'trend_psar_down', 'alpha26'], dtype='object')\n"
     ]
    }
   ],
   "source": [
    "data = get_all_stock_indicators('TRI.PA')"
   ]
  },
  {
   "cell_type": "code",
   "execution_count": 19,
   "id": "df958800",
   "metadata": {},
   "outputs": [
    {
     "name": "stdout",
     "output_type": "stream",
     "text": [
      "[*********************100%***********************]  1 of 1 completed\n"
     ]
    }
   ],
   "source": [
    "import yfinance as yf\n",
    "t = yf.download('^FCHI')\n",
    "t.index = pd.to_datetime(t.index)"
   ]
  },
  {
   "cell_type": "code",
   "execution_count": 26,
   "id": "e7dbb4f8",
   "metadata": {},
   "outputs": [
    {
     "data": {
      "text/plain": [
       "<AxesSubplot: xlabel='Date'>"
      ]
     },
     "execution_count": 26,
     "metadata": {},
     "output_type": "execute_result"
    },
    {
     "data": {
      "image/png": "[encoded data removed]",
      "text/plain": [
       "<Figure size 432x288 with 1 Axes>"
      ]
     },
     "metadata": {},
     "output_type": "display_data"
    }
   ],
   "source": [
    "import pandas as pd\n",
    "t[(t.index > pd.to_datetime(indd[0])) & (t.index < pd.to_datetime(indd[-1]))]['Close'].pct_change().cumsum().plot()"
   ]
  },
  {
   "cell_type": "code",
   "execution_count": 21,
   "id": "a5b44442",
   "metadata": {},
   "outputs": [
    {
     "data": {
      "text/plain": [
       "Timestamp('2018-12-07 00:00:00')"
      ]
     },
     "execution_count": 21,
     "metadata": {},
     "output_type": "execute_result"
    }
   ],
   "source": [
    "indd = pd.read_pickle('RMS_train.pickle').index\n"
   ]
  },
  {
   "cell_type": "code",
   "execution_count": 169,
   "id": "044bdb15",
   "metadata": {},
   "outputs": [
    {
     "name": "stdout",
     "output_type": "stream",
     "text": [
      "dropped Index(['trend_psar_up', 'trend_psar_down', 'alpha26'], dtype='object')\n",
      "features in the green area: ['volume_fi', 'volume_nvi', 'trend_dpo', 'trend_kst_diff', 'trend_stc', 'trend_visual_ichimoku_a', 'momentum_roc', 'momentum_pvo_hist', 'Returns n-10', 'alpha2', 'alpha13', 'alpha14', 'alpha15', 'alpha24', 'alpha32', 'alpha78', 'Beta 22', 'Sortino 16', 'Sharpe 14', 'Sortino 14', 'Sharpe 12', 'Sortino 10', 'Var 126', 'CAC 40']\n",
      "features in the blue area: ['macd_12_26', 'volume_sma_em', 'alpha11', 'alpha36', 'alpha50', 'alpha55', 'Treynor 12']\n"
     ]
    }
   ],
   "source": [
    "data = get_all_stock_indicators('TRI.PA')\n",
    "scaler = MinMaxScaler()\n",
    "scaler.fit(data)\n",
    "data_scaled = pd.DataFrame(scaler.fit_transform(data), columns = data.columns, index = data.index)\n",
    "Y = data_scaled['Sortino 12'].copy()\n",
    "X = data_scaled.drop(columns=['Sortino 12'])\n",
    "\n",
    "forest = RandomForestRegressor()\n",
    "\n",
    "boruta = BorutaPy(estimator = forest, n_estimators = 'auto', max_iter = 100)\n",
    "boruta.fit(np.array(X), np.array(Y))\n",
    "green_area = X.columns[boruta.support_].to_list()\n",
    "blue_area = X.columns[boruta.support_weak_].to_list()\n",
    "\n",
    "\n",
    "print('features in the green area:', green_area)\n",
    "print('features in the blue area:', blue_area)"
   ]
  },
  {
   "cell_type": "code",
   "execution_count": 170,
   "id": "b5f48afe",
   "metadata": {},
   "outputs": [
    {
     "name": "stdout",
     "output_type": "stream",
     "text": [
      "features in the green area: ['adx7', 'volume_fi', 'volume_nvi', 'trend_vortex_ind_neg', 'trend_aroon_down', 'momentum_pvo_hist', 'Returns n-15', 'alph8', 'alpha13', 'alpha40', 'Sortino 22', 'Sharpe 16', 'Sortino 16', 'Sharpe 14', 'Treynor 14', 'Sharpe 12', 'Sortino 12', 'Sortino 10', 'Gold Close', 'CAC 40']\n",
      "features in the blue area: ['Sharpe 10']\n"
     ]
    }
   ],
   "source": [
    "Y = data_scaled['Sortino 14'].copy()\n",
    "X = data_scaled.drop(columns=['Sortino 14'])\n",
    "\n",
    "forest = RandomForestRegressor()\n",
    "\n",
    "boruta = BorutaPy(estimator = forest, n_estimators = 'auto', max_iter = 100)\n",
    "boruta.fit(np.array(X), np.array(Y))\n",
    "green_area = X.columns[boruta.support_].to_list()\n",
    "blue_area = X.columns[boruta.support_weak_].to_list()\n",
    "\n",
    "\n",
    "print('features in the green area:', green_area)\n",
    "print('features in the blue area:', blue_area)"
   ]
  },
  {
   "cell_type": "code",
   "execution_count": 171,
   "id": "c5948314",
   "metadata": {},
   "outputs": [
    {
     "name": "stdout",
     "output_type": "stream",
     "text": [
      "features in the green area: ['macd_24_52', 'volume_obv', 'volume_fi', 'trend_dpo', 'momentum_pvo_hist', 'momentum_kama', 'Returns n-15', 'alpha40', 'Sharpe 18', 'Sortino 18', 'Sharpe 16', 'Treynor 16', 'Sharpe 14', 'Sortino 14', 'Sharpe 12', 'Sortino 12', 'Sortino 10', 'CAC 40']\n",
      "features in the blue area: ['volume_adi', 'volume_sma_em', 'volatility_kcw', 'alpha6', 'alpha32', 'Treynor 18']\n"
     ]
    }
   ],
   "source": [
    "Y = data_scaled['Sortino 16'].copy()\n",
    "X = data_scaled.drop(columns=['Sortino 16'])\n",
    "\n",
    "forest = RandomForestRegressor()\n",
    "\n",
    "boruta = BorutaPy(estimator = forest, n_estimators = 'auto', max_iter = 100)\n",
    "boruta.fit(np.array(X), np.array(Y))\n",
    "green_area = X.columns[boruta.support_].to_list()\n",
    "blue_area = X.columns[boruta.support_weak_].to_list()\n",
    "\n",
    "\n",
    "print('features in the green area:', green_area)\n",
    "print('features in the blue area:', blue_area)"
   ]
  },
  {
   "cell_type": "code",
   "execution_count": 172,
   "id": "c03035be",
   "metadata": {},
   "outputs": [
    {
     "name": "stdout",
     "output_type": "stream",
     "text": [
      "features in the green area: ['volume_obv', 'volume_fi', 'volume_em', 'volume_sma_em', 'volume_mfi', 'volume_nvi', 'volatility_bbw', 'volatility_kcw', 'volatility_atr', 'trend_vortex_ind_neg', 'trend_dpo', 'trend_visual_ichimoku_b', 'momentum_ppo', 'alpha2', 'alpha32', 'alpha94', 'Sortino 252', 'Sortino 26', 'Sortino 24', 'Sortino 22', 'Sharpe 18', 'Treynor 18', 'Sharpe 16', 'Sortino 16', 'Sharpe 14', 'Sortino 14', 'Var 52', 'CVar 52', 'Gold Close', 'CAC 40']\n",
      "features in the blue area: ['alpha78', 'Var 126']\n"
     ]
    }
   ],
   "source": [
    "Y = data_scaled['Sortino 18'].copy()\n",
    "X = data_scaled.drop(columns=['Sortino 18'])\n",
    "\n",
    "forest = RandomForestRegressor()\n",
    "\n",
    "boruta = BorutaPy(estimator = forest, n_estimators = 'auto', max_iter = 100)\n",
    "boruta.fit(np.array(X), np.array(Y))\n",
    "green_area = X.columns[boruta.support_].to_list()\n",
    "blue_area = X.columns[boruta.support_weak_].to_list()\n",
    "\n",
    "\n",
    "print('features in the green area:', green_area)\n",
    "print('features in the blue area:', blue_area)"
   ]
  },
  {
   "cell_type": "code",
   "execution_count": 173,
   "id": "0f258399",
   "metadata": {},
   "outputs": [
    {
     "name": "stdout",
     "output_type": "stream",
     "text": [
      "features in the green area: ['volatility_atr', 'trend_visual_ichimoku_a', 'alpha40', 'Sortino 26', 'Sharpe 24', 'Sortino 24', 'Beta 24', 'Sharpe 22', 'Treynor 22', 'Beta 22', 'Sharpe 18', 'Sortino 18', 'CVar 52', 'Gold Close']\n",
      "features in the blue area: ['macd_24_52']\n"
     ]
    }
   ],
   "source": [
    "Y = data_scaled['Sortino 22'].copy()\n",
    "X = data_scaled.drop(columns=['Sortino 22'])\n",
    "\n",
    "forest = RandomForestRegressor()\n",
    "\n",
    "boruta = BorutaPy(estimator = forest, n_estimators = 'auto', max_iter = 100)\n",
    "boruta.fit(np.array(X), np.array(Y))\n",
    "green_area = X.columns[boruta.support_].to_list()\n",
    "blue_area = X.columns[boruta.support_weak_].to_list()\n",
    "\n",
    "\n",
    "print('features in the green area:', green_area)\n",
    "print('features in the blue area:', blue_area)"
   ]
  },
  {
   "cell_type": "code",
   "execution_count": null,
   "id": "e7e1c09c",
   "metadata": {},
   "outputs": [],
   "source": [
    "https://towardsdatascience.com/aifortrading-2edd6fac689d#f982\n",
    "https://github.com/mfbalin/Concrete-Autoencoders\n",
    "https://github.com/CAG9/Autoencoder-Feature-Extraction\n",
    "https://github.com/zahraatashgahi/QuickSelection\n",
    "https://github.com/panda1949/AEFS\n",
    "https://github.com/hamaadshah/autoencoders_pytorch\n",
    "https://medium.com/@a.mirzaei69/how-to-use-deep-learning-for-feature-selection-python-keras-24a68bef1e33\n",
    "https://medium.com/coinmonks/crypto-feature-importance-for-deep-reinforcement-learning-38416616c2a36-8416616c2a36 \n",
    "https://medium.com/@CoderBurnt\n",
    "shap value en fonction du temps https://github.com/dynamik1703/gym_longicontrol/blob/master/Jupyter/LongiControl_SHAP.ipynb    "
   ]
  },
  {
   "cell_type": "code",
   "execution_count": 131,
   "id": "d1a6c126",
   "metadata": {},
   "outputs": [
    {
     "data": {
      "text/html": [
       "<div>\n",
       "<style scoped>\n",
       "    .dataframe tbody tr th:only-of-type {\n",
       "        vertical-align: middle;\n",
       "    }\n",
       "\n",
       "    .dataframe tbody tr th {\n",
       "        vertical-align: top;\n",
       "    }\n",
       "\n",
       "    .dataframe thead th {\n",
       "        text-align: right;\n",
       "    }\n",
       "</style>\n",
       "<table border=\"1\" class=\"dataframe\">\n",
       "  <thead>\n",
       "    <tr style=\"text-align: right;\">\n",
       "      <th></th>\n",
       "      <th>Returns n-5</th>\n",
       "      <th>alpha22</th>\n",
       "      <th>alpha42</th>\n",
       "      <th>alpha101</th>\n",
       "      <th>CAC 40</th>\n",
       "      <th>alpha78</th>\n",
       "      <th>alpha60</th>\n",
       "      <th>Returns n-7</th>\n",
       "      <th>alpha81</th>\n",
       "      <th>alpha30</th>\n",
       "      <th>alpha44</th>\n",
       "      <th>alpha24</th>\n",
       "      <th>alpha10</th>\n",
       "      <th>alpha16</th>\n",
       "      <th>alpha18</th>\n",
       "      <th>alpha25</th>\n",
       "      <th>volatility_bbw</th>\n",
       "      <th>Returns n-1</th>\n",
       "      <th>alpha50</th>\n",
       "      <th>alpha34</th>\n",
       "      <th>volatility_dcw</th>\n",
       "      <th>alpha9</th>\n",
       "      <th>alpha47</th>\n",
       "      <th>alpha84</th>\n",
       "      <th>volatility_bbl</th>\n",
       "      <th>Beta 252</th>\n",
       "      <th>alpha20</th>\n",
       "      <th>volatility_dcl</th>\n",
       "      <th>macd_24_52</th>\n",
       "      <th>volume_em</th>\n",
       "      <th>volume_cmf</th>\n",
       "      <th>alpha28</th>\n",
       "      <th>Sharpe 252</th>\n",
       "      <th>alpha33</th>\n",
       "      <th>Returns n-3</th>\n",
       "      <th>alpha51</th>\n",
       "      <th>alpha85</th>\n",
       "      <th>alpha1</th>\n",
       "      <th>volume_sma_em</th>\n",
       "      <th>sma26</th>\n",
       "      <th>...</th>\n",
       "      <th>High</th>\n",
       "      <th>sma8</th>\n",
       "      <th>ema8</th>\n",
       "      <th>sma12</th>\n",
       "      <th>volatility_kcc</th>\n",
       "      <th>sma5</th>\n",
       "      <th>ema5</th>\n",
       "      <th>Close</th>\n",
       "      <th>others_cr</th>\n",
       "      <th>volatility_kch</th>\n",
       "      <th>trend_ichimoku_b</th>\n",
       "      <th>trend_ichimoku_conv</th>\n",
       "      <th>Treynor 52</th>\n",
       "      <th>volatility_dch</th>\n",
       "      <th>alpha27</th>\n",
       "      <th>trend_mass_index</th>\n",
       "      <th>trend_kst_diff</th>\n",
       "      <th>volume_obv</th>\n",
       "      <th>alpha13</th>\n",
       "      <th>alpha6</th>\n",
       "      <th>volatility_bbh</th>\n",
       "      <th>Treynor 26</th>\n",
       "      <th>alpha75</th>\n",
       "      <th>alpha7</th>\n",
       "      <th>CAC Returns</th>\n",
       "      <th>momentum_uo</th>\n",
       "      <th>Treynor 252</th>\n",
       "      <th>alpha15</th>\n",
       "      <th>alpha83</th>\n",
       "      <th>alpha3</th>\n",
       "      <th>macd_12_26</th>\n",
       "      <th>alpha55</th>\n",
       "      <th>alpha2</th>\n",
       "      <th>momentum_stoch_rsi_d</th>\n",
       "      <th>stochrsi20</th>\n",
       "      <th>Beta 126</th>\n",
       "      <th>alpha17</th>\n",
       "      <th>alpha52</th>\n",
       "      <th>alpha32</th>\n",
       "      <th>alpha53</th>\n",
       "    </tr>\n",
       "  </thead>\n",
       "  <tbody>\n",
       "    <tr>\n",
       "      <th>f_reg_score</th>\n",
       "      <td>11.800911</td>\n",
       "      <td>6.274894</td>\n",
       "      <td>4.820948</td>\n",
       "      <td>4.61766</td>\n",
       "      <td>4.110306</td>\n",
       "      <td>3.836341</td>\n",
       "      <td>3.658976</td>\n",
       "      <td>3.364471</td>\n",
       "      <td>3.326426</td>\n",
       "      <td>3.170938</td>\n",
       "      <td>3.066855</td>\n",
       "      <td>2.973161</td>\n",
       "      <td>2.641064</td>\n",
       "      <td>2.502518</td>\n",
       "      <td>2.160708</td>\n",
       "      <td>2.146159</td>\n",
       "      <td>2.082352</td>\n",
       "      <td>1.899992</td>\n",
       "      <td>1.820774</td>\n",
       "      <td>1.814004</td>\n",
       "      <td>1.797391</td>\n",
       "      <td>1.778425</td>\n",
       "      <td>1.736567</td>\n",
       "      <td>1.703595</td>\n",
       "      <td>1.527655</td>\n",
       "      <td>1.491882</td>\n",
       "      <td>1.468174</td>\n",
       "      <td>1.455552</td>\n",
       "      <td>1.435456</td>\n",
       "      <td>1.357575</td>\n",
       "      <td>1.294071</td>\n",
       "      <td>1.26172</td>\n",
       "      <td>1.256689</td>\n",
       "      <td>1.245962</td>\n",
       "      <td>1.214084</td>\n",
       "      <td>1.161836</td>\n",
       "      <td>1.151399</td>\n",
       "      <td>1.122638</td>\n",
       "      <td>1.121071</td>\n",
       "      <td>1.107727</td>\n",
       "      <td>...</td>\n",
       "      <td>0.928533</td>\n",
       "      <td>0.916442</td>\n",
       "      <td>0.916012</td>\n",
       "      <td>0.915301</td>\n",
       "      <td>0.909298</td>\n",
       "      <td>0.894965</td>\n",
       "      <td>0.891874</td>\n",
       "      <td>0.889075</td>\n",
       "      <td>0.889075</td>\n",
       "      <td>0.880438</td>\n",
       "      <td>0.866904</td>\n",
       "      <td>0.846897</td>\n",
       "      <td>0.845643</td>\n",
       "      <td>0.842312</td>\n",
       "      <td>0.830808</td>\n",
       "      <td>0.823706</td>\n",
       "      <td>0.814022</td>\n",
       "      <td>0.810369</td>\n",
       "      <td>0.801904</td>\n",
       "      <td>0.752639</td>\n",
       "      <td>0.740562</td>\n",
       "      <td>0.697297</td>\n",
       "      <td>0.693718</td>\n",
       "      <td>0.685296</td>\n",
       "      <td>0.644416</td>\n",
       "      <td>0.636674</td>\n",
       "      <td>0.634706</td>\n",
       "      <td>0.626959</td>\n",
       "      <td>0.611247</td>\n",
       "      <td>0.601213</td>\n",
       "      <td>0.597632</td>\n",
       "      <td>0.59712</td>\n",
       "      <td>0.587688</td>\n",
       "      <td>0.580258</td>\n",
       "      <td>0.575437</td>\n",
       "      <td>0.568827</td>\n",
       "      <td>0.56714</td>\n",
       "      <td>0.543897</td>\n",
       "      <td>0.514381</td>\n",
       "      <td>0.513987</td>\n",
       "    </tr>\n",
       "  </tbody>\n",
       "</table>\n",
       "<p>1 rows × 102 columns</p>\n",
       "</div>"
      ],
      "text/plain": [
       "             Returns n-5   alpha22   alpha42  ...   alpha52   alpha32   alpha53\n",
       "f_reg_score    11.800911  6.274894  4.820948  ...  0.543897  0.514381  0.513987\n",
       "\n",
       "[1 rows x 102 columns]"
      ]
     },
     "execution_count": 131,
     "metadata": {},
     "output_type": "execute_result"
    }
   ],
   "source": [
    "from sklearn.feature_selection import f_regression, mutual_info_regression\n",
    "test = SelectKBest(score_func=f_regression, k=3)\n",
    "fit = test.fit(X, Y)\n",
    "features_scores = pd.DataFrame(fit.scores_, index=X.columns, columns=['f_reg_score'])\n",
    "features_scores[features_scores.iloc[:,0] > 0.5].sort_values(by=['f_reg_score'], ascending = False).T"
   ]
  },
  {
   "cell_type": "code",
   "execution_count": 133,
   "id": "9258bf49",
   "metadata": {},
   "outputs": [
    {
     "data": {
      "text/html": [
       "<div>\n",
       "<style scoped>\n",
       "    .dataframe tbody tr th:only-of-type {\n",
       "        vertical-align: middle;\n",
       "    }\n",
       "\n",
       "    .dataframe tbody tr th {\n",
       "        vertical-align: top;\n",
       "    }\n",
       "\n",
       "    .dataframe thead th {\n",
       "        text-align: right;\n",
       "    }\n",
       "</style>\n",
       "<table border=\"1\" class=\"dataframe\">\n",
       "  <thead>\n",
       "    <tr style=\"text-align: right;\">\n",
       "      <th></th>\n",
       "      <th>volatility_kcw</th>\n",
       "      <th>momentum_ppo_signal</th>\n",
       "      <th>volume_fi</th>\n",
       "      <th>CVar 126</th>\n",
       "      <th>volume_adi</th>\n",
       "      <th>trend_trix</th>\n",
       "      <th>alpha101</th>\n",
       "      <th>volatility_dcw</th>\n",
       "      <th>CVar 52</th>\n",
       "      <th>adx30</th>\n",
       "      <th>Treynor 26</th>\n",
       "      <th>WTI Oil Close</th>\n",
       "      <th>trend_macd_signal</th>\n",
       "      <th>trend_kst_sig</th>\n",
       "      <th>Treynor 52</th>\n",
       "      <th>Sortino 252</th>\n",
       "      <th>Sharpe 252</th>\n",
       "      <th>alpha43</th>\n",
       "      <th>rsi14</th>\n",
       "      <th>alpha11</th>\n",
       "      <th>Var 52</th>\n",
       "      <th>RSI n-7</th>\n",
       "      <th>Var 126</th>\n",
       "      <th>volume_nvi</th>\n",
       "      <th>momentum_ao</th>\n",
       "      <th>volume_cmf</th>\n",
       "      <th>trend_aroon_down</th>\n",
       "      <th>momentum_stoch_rsi_k</th>\n",
       "      <th>CCI7</th>\n",
       "      <th>trend_kst</th>\n",
       "      <th>trend_macd</th>\n",
       "      <th>Sortino 52</th>\n",
       "      <th>Beta 52</th>\n",
       "      <th>alpha28</th>\n",
       "      <th>trend_aroon_ind</th>\n",
       "      <th>alpha74</th>\n",
       "      <th>Sortino 26</th>\n",
       "      <th>alpha22</th>\n",
       "      <th>CAC 40</th>\n",
       "      <th>volatility_bbl</th>\n",
       "      <th>rsi10</th>\n",
       "      <th>trend_visual_ichimoku_b</th>\n",
       "      <th>Beta 126</th>\n",
       "      <th>Volume</th>\n",
       "      <th>RSI n-4</th>\n",
       "      <th>RSI n-3</th>\n",
       "      <th>rsi17</th>\n",
       "      <th>Returns n-5</th>\n",
       "      <th>RSI n-5</th>\n",
       "      <th>RSI n-2</th>\n",
       "      <th>alpha40</th>\n",
       "      <th>momentum_stoch_signal</th>\n",
       "      <th>Var 252</th>\n",
       "      <th>trend_aroon_up</th>\n",
       "      <th>trend_adx_pos</th>\n",
       "    </tr>\n",
       "  </thead>\n",
       "  <tbody>\n",
       "    <tr>\n",
       "      <th>mut_info_scores</th>\n",
       "      <td>0.100919</td>\n",
       "      <td>0.086871</td>\n",
       "      <td>0.072794</td>\n",
       "      <td>0.070104</td>\n",
       "      <td>0.069253</td>\n",
       "      <td>0.066504</td>\n",
       "      <td>0.065109</td>\n",
       "      <td>0.064551</td>\n",
       "      <td>0.063195</td>\n",
       "      <td>0.060693</td>\n",
       "      <td>0.057233</td>\n",
       "      <td>0.05705</td>\n",
       "      <td>0.054656</td>\n",
       "      <td>0.054621</td>\n",
       "      <td>0.053997</td>\n",
       "      <td>0.051478</td>\n",
       "      <td>0.051115</td>\n",
       "      <td>0.050767</td>\n",
       "      <td>0.050531</td>\n",
       "      <td>0.049716</td>\n",
       "      <td>0.049493</td>\n",
       "      <td>0.049233</td>\n",
       "      <td>0.048874</td>\n",
       "      <td>0.047337</td>\n",
       "      <td>0.045698</td>\n",
       "      <td>0.044884</td>\n",
       "      <td>0.044324</td>\n",
       "      <td>0.044282</td>\n",
       "      <td>0.043838</td>\n",
       "      <td>0.042268</td>\n",
       "      <td>0.041785</td>\n",
       "      <td>0.041196</td>\n",
       "      <td>0.040879</td>\n",
       "      <td>0.03856</td>\n",
       "      <td>0.038117</td>\n",
       "      <td>0.037519</td>\n",
       "      <td>0.037352</td>\n",
       "      <td>0.036614</td>\n",
       "      <td>0.036131</td>\n",
       "      <td>0.036076</td>\n",
       "      <td>0.036049</td>\n",
       "      <td>0.03542</td>\n",
       "      <td>0.034811</td>\n",
       "      <td>0.034407</td>\n",
       "      <td>0.033357</td>\n",
       "      <td>0.032388</td>\n",
       "      <td>0.032153</td>\n",
       "      <td>0.031408</td>\n",
       "      <td>0.031296</td>\n",
       "      <td>0.03094</td>\n",
       "      <td>0.030757</td>\n",
       "      <td>0.030527</td>\n",
       "      <td>0.030295</td>\n",
       "      <td>0.030058</td>\n",
       "      <td>0.030037</td>\n",
       "    </tr>\n",
       "  </tbody>\n",
       "</table>\n",
       "</div>"
      ],
      "text/plain": [
       "                 volatility_kcw  ...  trend_adx_pos\n",
       "mut_info_scores        0.100919  ...       0.030037\n",
       "\n",
       "[1 rows x 55 columns]"
      ]
     },
     "execution_count": 133,
     "metadata": {},
     "output_type": "execute_result"
    }
   ],
   "source": [
    "mutinfo = SelectKBest(score_func=mutual_info_regression, k=3)\n",
    "mutinfo = mutinfo.fit(X, Y)\n",
    "mut_info_scores = pd.DataFrame(mutinfo.scores_, index=X.columns, columns=['mut_info_scores'])\n",
    "mut_info_scores[mut_info_scores.iloc[:,0]>0.03].sort_values(by=['mut_info_scores'], ascending = False).T"
   ]
  }
 ],
 "metadata": {
  "kernelspec": {
   "display_name": "Python 3 (Spyder)",
   "language": "python3",
   "name": "python3"
  },
  "language_info": {
   "codemirror_mode": {
    "name": "ipython",
    "version": 3
   },
   "file_extension": ".py",
   "mimetype": "text/x-python",
   "name": "python",
   "nbconvert_exporter": "python",
   "pygments_lexer": "ipython3",
   "version": "3.9.13"
  }
 },
 "nbformat": 4,
 "nbformat_minor": 5
}
